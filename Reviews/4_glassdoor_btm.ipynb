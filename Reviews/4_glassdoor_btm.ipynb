{
 "cells": [
  {
   "cell_type": "code",
   "execution_count": null,
   "metadata": {},
   "outputs": [],
   "source": [
    "from nltk.tokenize import TweetTokenizer\n",
    "from nltk.corpus import stopwords\n",
    "import string\n",
    "import contractions\n",
    "from spacy.lang.en.stop_words import STOP_WORDS\n",
    "from nltk.stem import WordNetLemmatizer \n",
    "from textblob import TextBlob\n",
    "import re\n",
    "import pandas as pd\n",
    "import numpy as np\n",
    "from tqdm.notebook import tqdm_notebook\n",
    "tqdm_notebook.pandas()\n",
    "import ipywidgets\n",
    "import swifter\n",
    "import gc\n",
    "import os\n",
    "gc.collect()"
   ]
  },
  {
   "cell_type": "code",
   "execution_count": null,
   "metadata": {},
   "outputs": [],
   "source": [
    "glasssdoor_data_dir = \"/ifs/projects/amirgo-identification/glassdoor_data\"\n",
    "glassdoor_reviews = pd.read_csv(os.path.join(glassdoor_data_dir, \"reviews_new_processed.csv\"))\n",
    "glassdoor_reviews = glassdoor_reviews.loc[glassdoor_reviews['is_current_job'] == 1,]\n",
    "tokenizer = TweetTokenizer()\n",
    "stop_words = STOP_WORDS\n",
    "custom_stop_words = ['people', 'employee', 'employees', 'work', 'working', 'company', 'great', 'good', 'lot']\n",
    "stop_words = set(list(stop_words) + custom_stop_words)\n",
    "\n",
    "lemmatizer = WordNetLemmatizer()\n",
    "# getting rid of these tokens that are not included in the pre-defined punctuation list\n",
    "# no better lists existing\n",
    "punctuation = string.punctuation + '–...…’“”'\n",
    "# removing bullet points and numbers\n",
    "re_number = r\"[0-9]+(\\.)?\"\n",
    "glassdoor_reviews = glassdoor_reviews.dropna(subset=['pros', 'cons']).astype({'pros':'str', 'cons':'str'})"
   ]
  },
  {
   "cell_type": "code",
   "execution_count": null,
   "metadata": {},
   "outputs": [],
   "source": [
    "def clean_text(text):\n",
    "    text = contractions.fix(text).lower()\n",
    "    cleaned_toks = [lemmatizer.lemmatize(t) for t in tokenizer.tokenize(text.replace('.',' '))\n",
    "                   if t not in punctuation and t not in stop_words and re.match(re_number, t) is None]\n",
    "    return ' '.join(cleaned_toks)"
   ]
  },
  {
   "cell_type": "code",
   "execution_count": null,
   "metadata": {},
   "outputs": [],
   "source": [
    "%%time\n",
    "glassdoor_reviews['pros_cleaned'] = glassdoor_reviews.swifter.allow_dask_on_strings(enable=True).apply(lambda row : clean_text(row['pros']), axis=1)"
   ]
  },
  {
   "cell_type": "code",
   "execution_count": null,
   "metadata": {},
   "outputs": [],
   "source": [
    "%%time\n",
    "glassdoor_reviews['cons_cleaned'] = glassdoor_reviews.swifter.allow_dask_on_strings(enable=True).apply(lambda row : clean_text(row['cons']), axis=1)"
   ]
  },
  {
   "cell_type": "code",
   "execution_count": null,
   "metadata": {},
   "outputs": [],
   "source": [
    "glassdoor_reviews = glassdoor_reviews.drop(columns=[\"pros\", \"cons\", \"feedback\",\n",
    "                                                   \"pros_processed_train\", \"cons_processed_train\", \"pros_processed_eval\", \"cons_processed_eval\"])\n",
    "glassdoor_reviews.to_csv(os.path.join(glassdoor_data_dir, 'glassdoor_reviews_custom.csv'))"
   ]
  },
  {
   "cell_type": "code",
   "execution_count": null,
   "metadata": {},
   "outputs": [],
   "source": [
    "glassdoor_reviews[[\"employer_id\", \"employer_name\", \"employer_type\",\n",
    "                   \"num_employees\", \"revenue_annual\", \"industry\", \"sector\"]].drop_duplicates().to_csv(\n",
    "    os.path.join(glassdoor_data_dir, 'glassdoor_companies.csv'))"
   ]
  },
  {
   "cell_type": "code",
   "execution_count": null,
   "metadata": {},
   "outputs": [],
   "source": [
    "glassdoor_reviews[[\"review_id\", \"employer_id\", \"gender\", \"len_employment\", \"pros_cleaned\", \"cons_cleaned\"]].to_csv(\n",
    "    os.path.join(glassdoor_data_dir, 'glassdoor_reviews_only.csv'))"
   ]
  },
  {
   "cell_type": "code",
   "execution_count": null,
   "metadata": {},
   "outputs": [],
   "source": [
    "with open('/ifs/projects/amirgo-identification/BTM/glassdoor_data/pros.txt', 'w') as f:\n",
    "    for item in glassdoor_reviews['pros_cleaned'].tolist():\n",
    "        f.write(\"%s\\n\" % item)\n",
    "with open('/ifs/projects/amirgo-identification/BTM/glassdoor_data/cons.txt', 'w') as f:\n",
    "    for item in glassdoor_reviews['cons_cleaned'].tolist():\n",
    "        f.write(\"%s\\n\" % item)"
   ]
  },
  {
   "cell_type": "code",
   "execution_count": null,
   "metadata": {},
   "outputs": [],
   "source": [
    "# shows companies are matched with more than one cities - might just be city of reviewer\n",
    "emps = glassdoor_reviews[['employer_id', 'metro_name']].drop_duplicates()\n",
    "ids = emps['employer_id']\n",
    "emps[ids.isin(ids[ids.duplicated()])].sort_values('employer_id')"
   ]
  },
  {
   "cell_type": "code",
   "execution_count": null,
   "metadata": {},
   "outputs": [],
   "source": [
    "glassdoor_reviews['datetime']"
   ]
  },
  {
   "cell_type": "code",
   "execution_count": null,
   "metadata": {},
   "outputs": [],
   "source": [
    "# shows companies are matched with more than one cities - might just be city of reviewer\n",
    "emps = glassdoor_reviews[['employer_id', 'revenue_annual']].drop_duplicates()\n",
    "ids = emps['employer_id']\n",
    "emps[ids.isin(ids[ids.duplicated()])].sort_values('employer_id')"
   ]
  },
  {
   "cell_type": "code",
   "execution_count": null,
   "metadata": {},
   "outputs": [],
   "source": []
  }
 ],
 "metadata": {
  "kernelspec": {
   "display_name": "Python 3",
   "language": "python",
   "name": "python3"
  },
  "language_info": {
   "codemirror_mode": {
    "name": "ipython",
    "version": 3
   },
   "file_extension": ".py",
   "mimetype": "text/x-python",
   "name": "python",
   "nbconvert_exporter": "python",
   "pygments_lexer": "ipython3",
   "version": "3.7.3"
  }
 },
 "nbformat": 4,
 "nbformat_minor": 4
}
