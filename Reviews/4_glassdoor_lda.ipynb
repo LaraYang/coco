{
 "cells": [
  {
   "cell_type": "code",
   "execution_count": 2,
   "metadata": {},
   "outputs": [],
   "source": [
    "from nltk.tokenize import TweetTokenizer\n",
    "from nltk.corpus import stopwords\n",
    "import string\n",
    "import contractions\n",
    "from spacy.lang.en.stop_words import STOP_WORDS\n",
    "from nltk.stem import WordNetLemmatizer \n",
    "from textblob import TextBlob\n",
    "import re\n",
    "import pandas as pd\n",
    "import numpy as np\n",
    "from tqdm.notebook import tqdm_notebook\n",
    "tqdm_notebook.pandas()\n",
    "import ipywidgets\n",
    "import swifter\n",
    "import gensim\n",
    "from gensim import corpora\n",
    "import pickle\n",
    "import os"
   ]
  },
  {
   "cell_type": "code",
   "execution_count": 41,
   "metadata": {},
   "outputs": [],
   "source": [
    "glassdoor_data_dir = \"/ifs/projects/amirgo-identification/glassdoor_data/\"\n",
    "glassdoor_reviews = pd.read_csv(os.path.join(glassdoor_data_dir, \"glassdoor_reviews_only.csv\")\n",
    "glassdoor_lda_model_dir = \"/ifs/projects/amirgo-identification/glassdoor_lda_model/\""
   ]
  },
  {
   "cell_type": "code",
   "execution_count": 3,
   "metadata": {},
   "outputs": [],
   "source": [
    "pros = [doc.split(' ') for doc in glassdoor_reviews['pros_cleaned'].dropna().tolist()]\n",
    "dictionary = corpora.Dictionary(pros)\n",
    "corpus = [dictionary.doc2bow(doc) for doc in pros]\n",
    "pickle.dump(corpus, open(os.path.join(glassdoor_lda_model_dir, 'corpus.pkl'), 'wb'))\n",
    "dictionary.save(os.path.join(glassdoor_lda_model_dir, 'dictionary.gensim')"
   ]
  },
  {
   "cell_type": "code",
   "execution_count": 6,
   "metadata": {},
   "outputs": [
    {
     "name": "stdout",
     "output_type": "stream",
     "text": [
      "CPU times: user 44min 57s, sys: 9min 22s, total: 54min 19s\n",
      "Wall time: 1h 17s\n"
     ]
    }
   ],
   "source": [
    "%%time\n",
    "NUM_TOPICS = 10\n",
    "\n",
    "ldamodel = gensim.models.LdaMulticore(corpus, num_topics = NUM_TOPICS, id2word=dictionary, passes=5, workers=4)\n",
    "ldamodel.save(os.path.join(glassdoor_lda_model_dir, 'model5.gensim'))"
   ]
  },
  {
   "cell_type": "code",
   "execution_count": 8,
   "metadata": {},
   "outputs": [
    {
     "name": "stdout",
     "output_type": "stream",
     "text": [
      "(0, '0.120*\"environment\" + 0.073*\"friendly\" + 0.049*\"fun\" + 0.047*\"nice\" + 0.039*\"atmosphere\" + 0.039*\"management\" + 0.035*\"coworkers\" + 0.033*\"place\" + 0.030*\"team\" + 0.029*\"staff\"')\n",
      "(1, '0.171*\"benefit\" + 0.088*\"pay\" + 0.028*\"salary\" + 0.024*\"time\" + 0.024*\"decent\" + 0.023*\"health\" + 0.022*\"competitive\" + 0.021*\"opportunity\" + 0.019*\"bonus\" + 0.019*\"insurance\"')\n",
      "(2, '0.092*\"flexible\" + 0.082*\"hour\" + 0.059*\"schedule\" + 0.048*\"easy\" + 0.042*\"pay\" + 0.036*\"time\" + 0.033*\"job\" + 0.017*\"money\" + 0.015*\"pretty\" + 0.013*\"manager\"')\n",
      "(3, '0.030*\"opportunity\" + 0.026*\"learn\" + 0.026*\"project\" + 0.023*\"new\" + 0.022*\"product\" + 0.021*\"lot\" + 0.020*\"technology\" + 0.017*\"industry\" + 0.017*\"interesting\" + 0.016*\"different\"')\n",
      "(4, '0.039*\"training\" + 0.033*\"experience\" + 0.031*\"opportunity\" + 0.025*\"help\" + 0.021*\"career\" + 0.016*\"support\" + 0.016*\"learn\" + 0.015*\"student\" + 0.014*\"skill\" + 0.013*\"grow\"')\n",
      "(5, '0.021*\"year\" + 0.019*\"time\" + 0.017*\"job\" + 0.015*\"day\" + 0.014*\"best\" + 0.013*\"like\" + 0.013*\"worked\" + 0.013*\"thing\" + 0.009*\"help\" + 0.009*\"place\"')\n",
      "(6, '0.040*\"team\" + 0.033*\"culture\" + 0.025*\"growth\" + 0.023*\"leadership\" + 0.021*\"opportunity\" + 0.016*\"management\" + 0.013*\"value\" + 0.011*\"strong\" + 0.011*\"environment\" + 0.009*\"hard\"')\n",
      "(7, '0.048*\"free\" + 0.033*\"office\" + 0.022*\"food\" + 0.020*\"nice\" + 0.019*\"lunch\" + 0.019*\"event\" + 0.017*\"location\" + 0.015*\"discount\" + 0.015*\"fun\" + 0.014*\"perk\"')\n",
      "(8, '0.065*\"family\" + 0.063*\"care\" + 0.037*\"like\" + 0.030*\"customer\" + 0.028*\"love\" + 0.028*\"community\" + 0.021*\"service\" + 0.020*\"feel\" + 0.019*\"staff\" + 0.019*\"pro\"')\n",
      "(9, '0.154*\"life\" + 0.135*\"balance\" + 0.060*\"flexibility\" + 0.056*\"job\" + 0.044*\"benefit\" + 0.035*\"home\" + 0.031*\"work-life\" + 0.019*\"security\" + 0.019*\"stable\" + 0.017*\"culture\"')\n"
     ]
    }
   ],
   "source": [
    "topics = ldamodel.print_topics(num_words=10)\n",
    "for topic in topics:\n",
    "    print(topic)"
   ]
  },
  {
   "cell_type": "markdown",
   "metadata": {},
   "source": [
    "Topic Modeling Cons"
   ]
  },
  {
   "cell_type": "code",
   "execution_count": 98,
   "metadata": {},
   "outputs": [],
   "source": [
    "cons = [doc.split(' ') for doc in glassdoor_reviews['cons_cleaned'].dropna().tolist()]\n",
    "cons_dictionary = corpora.Dictionary(cons)\n",
    "cons_corpus = [cons_dictionary.doc2bow(doc) for doc in cons]\n",
    "pickle.dump(cons_corpus, open(os.path.join(glassdoor_lda_model_dir, 'cons_corpus.pkl'), 'wb'))\n",
    "cons_dictionary.save(os.path.join(glassdoor_lda_model_dir, 'cons_dictionary.gensim'))"
   ]
  },
  {
   "cell_type": "code",
   "execution_count": 99,
   "metadata": {},
   "outputs": [
    {
     "name": "stdout",
     "output_type": "stream",
     "text": [
      "CPU times: user 54min 47s, sys: 11min 50s, total: 1h 6min 38s\n",
      "Wall time: 1h 11min 45s\n"
     ]
    }
   ],
   "source": [
    "%%time\n",
    "NUM_TOPICS = 10\n",
    "ldamodel = gensim.models.LdaMulticore(cons_corpus, num_topics = NUM_TOPICS, id2word=cons_dictionary, passes=5, workers=8)\n",
    "ldamodel.save(os.path.join(glassdoor_lda_model_dir, 'cons_glassdoor_model.gensim'))"
   ]
  },
  {
   "cell_type": "code",
   "execution_count": 100,
   "metadata": {},
   "outputs": [
    {
     "name": "stdout",
     "output_type": "stream",
     "text": [
      "(0, '0.107*\"con\" + 0.072*\"think\" + 0.036*\"job\" + 0.035*\"time\" + 0.034*\"place\" + 0.023*\"bad\" + 0.022*\"far\" + 0.020*\"negative\" + 0.018*\"come\" + 0.014*\"love\"')\n",
      "(1, '0.035*\"year\" + 0.014*\"new\" + 0.012*\"job\" + 0.008*\"position\" + 0.007*\"review\" + 0.007*\"business\" + 0.007*\"hire\" + 0.006*\"month\" + 0.006*\"client\" + 0.006*\"contract\"')\n",
      "(2, '0.072*\"management\" + 0.019*\"manager\" + 0.014*\"leadership\" + 0.012*\"upper\" + 0.012*\"lack\" + 0.011*\"team\" + 0.010*\"staff\" + 0.009*\"poor\" + 0.009*\"care\" + 0.008*\"like\"')\n",
      "(3, '0.038*\"office\" + 0.017*\"location\" + 0.017*\"system\" + 0.017*\"project\" + 0.015*\"issue\" + 0.013*\"need\" + 0.013*\"client\" + 0.012*\"area\" + 0.010*\"technology\" + 0.010*\"time\"')\n",
      "(4, '0.154*\"pay\" + 0.067*\"low\" + 0.055*\"high\" + 0.035*\"salary\" + 0.027*\"management\" + 0.024*\"raise\" + 0.023*\"poor\" + 0.020*\"turnover\" + 0.019*\"rate\" + 0.015*\"benefit\"')\n",
      "(5, '0.033*\"change\" + 0.017*\"need\" + 0.017*\"process\" + 0.016*\"growing\" + 0.015*\"thing\" + 0.013*\"fast\" + 0.013*\"time\" + 0.012*\"business\" + 0.012*\"team\" + 0.011*\"new\"')\n",
      "(6, '0.061*\"opportunity\" + 0.056*\"benefit\" + 0.043*\"growth\" + 0.040*\"career\" + 0.035*\"advancement\" + 0.034*\"room\" + 0.029*\"limited\" + 0.022*\"health\" + 0.020*\"insurance\" + 0.019*\"promotion\"')\n",
      "(7, '0.048*\"hard\" + 0.046*\"life\" + 0.038*\"balance\" + 0.027*\"time\" + 0.024*\"difficult\" + 0.020*\"job\" + 0.016*\"student\" + 0.014*\"expectation\" + 0.013*\"staff\" + 0.013*\"workload\"')\n",
      "(8, '0.024*\"customer\" + 0.017*\"manager\" + 0.017*\"sale\" + 0.015*\"like\" + 0.015*\"job\" + 0.014*\"store\" + 0.010*\"time\" + 0.010*\"want\" + 0.010*\"money\" + 0.009*\"know\"')\n",
      "(9, '0.106*\"hour\" + 0.062*\"time\" + 0.054*\"long\" + 0.051*\"day\" + 0.026*\"week\" + 0.019*\"shift\" + 0.019*\"schedule\" + 0.012*\"holiday\" + 0.012*\"weekend\" + 0.010*\"vacation\"')\n"
     ]
    }
   ],
   "source": [
    "topics = ldamodel.print_topics(num_words=10)\n",
    "for topic in topics:\n",
    "    print(topic)"
   ]
  },
  {
   "cell_type": "markdown",
   "metadata": {},
   "source": [
    "Prediction on Survey Data"
   ]
  },
  {
   "cell_type": "code",
   "execution_count": 3,
   "metadata": {},
   "outputs": [],
   "source": [
    "survey_data = pd.read_csv(\"/ifs/gsb/amirgo/spacespace/spacespace/Coco/analyses_data/survey_hr_topic_modeling.csv\")\n",
    "survey_data = survey_data.dropna(subset=['pros_cleaned', 'cons_cleaned'])\n",
    "survey_data.reset_index(drop=True, inplace=True)"
   ]
  },
  {
   "cell_type": "code",
   "execution_count": 6,
   "metadata": {},
   "outputs": [],
   "source": [
    "from gensim.models.ldamulticore import LdaMulticore\n",
    "ldamodel = LdaMulticore.load(os.path.join(glassdoor_lda_model_dir, 'model5.gensim'))\n",
    "pros = [doc.split(' ') for doc in survey_data['pros_cleaned'].tolist()]\n",
    "doc_vectors = [ldamodel.id2word.doc2bow(doc) for doc in pros]\n",
    "doc_topics = [ldamodel[doc_vector] for doc_vector in doc_vectors]\n",
    "rows = []\n",
    "for doc in doc_topics:\n",
    "    curr_row = [0] * 10\n",
    "    for topic, prop in doc:\n",
    "        curr_row[topic] = prop\n",
    "    rows.append(curr_row)\n",
    "pros_df = pd.DataFrame(rows, columns=['pros_topic'+str(i) for i in range(1,11)])"
   ]
  },
  {
   "cell_type": "code",
   "execution_count": 8,
   "metadata": {},
   "outputs": [],
   "source": [
    "ldamodel = LdaMulticore.load(os.path.join(glassdoor_lda_model_dir, 'cons_glassdoor_model.gensim'))\n",
    "cons = [doc.split(' ') for doc in survey_data['cons_cleaned'].tolist()]\n",
    "doc_vectors = [ldamodel.id2word.doc2bow(doc) for doc in cons]\n",
    "doc_topics = [ldamodel[doc_vector] for doc_vector in doc_vectors]\n",
    "rows = []\n",
    "for doc in doc_topics:\n",
    "    curr_row = [0] * 10\n",
    "    for topic, prop in doc:\n",
    "        curr_row[topic] = prop\n",
    "    rows.append(curr_row)\n",
    "cons_df = pd.DataFrame(rows, columns=['cons_topic'+str(i) for i in range(1,11)])\n"
   ]
  },
  {
   "cell_type": "code",
   "execution_count": 9,
   "metadata": {},
   "outputs": [],
   "source": [
    "pros_df.reset_index(drop=True, inplace=True)\n",
    "cons_df.reset_index(drop=True, inplace=True)\n",
    "survey_data = pd.concat([survey_data, pros_df, cons_df], axis=1)\n"
   ]
  },
  {
   "cell_type": "code",
   "execution_count": 11,
   "metadata": {},
   "outputs": [],
   "source": [
    "survey_data.to_csv('/ifs/gsb/amirgo/spacespace/spacespace/Coco/analyses_data/coco_glassdoor_topic_modeling.csv', index=False)"
   ]
  },
  {
   "cell_type": "markdown",
   "metadata": {},
   "source": [
    "Glassdoor Document Proportions "
   ]
  },
  {
   "cell_type": "code",
   "execution_count": 42,
   "metadata": {},
   "outputs": [],
   "source": [
    "glassdoor_reviews = glassdoor_reviews.dropna(subset=['pros_cleaned', 'cons_cleaned'])"
   ]
  },
  {
   "cell_type": "code",
   "execution_count": 32,
   "metadata": {},
   "outputs": [],
   "source": [
    "from gensim.models.ldamulticore import LdaMulticore\n",
    "ldamodel = LdaMulticore.load(os.path.join(glassdoor_lda_model_dir, 'model5.gensim'))\n",
    "# redoing this without loading saved corpus as the original models were not \n",
    "pros = [doc.split(' ') for doc in glassdoor_reviews['pros_cleaned'].tolist()]\n",
    "doc_vectors = [ldamodel.id2word.doc2bow(doc) for doc in pros]\n",
    "doc_topics = [ldamodel[doc_vector] for doc_vector in doc_vectors]\n",
    "rows = []\n",
    "for doc in doc_topics:\n",
    "    curr_row = [0] * 10\n",
    "    for topic, prop in doc:\n",
    "        curr_row[topic] = prop\n",
    "    rows.append(curr_row)\n",
    "glassdoor_pros_df = pd.DataFrame(rows, columns=['pros_topic'+str(i) for i in range(1,11)])"
   ]
  },
  {
   "cell_type": "code",
   "execution_count": 33,
   "metadata": {},
   "outputs": [],
   "source": [
    "ldamodel = LdaMulticore.load(os.path.join(glassdoor_lda_model_dir, 'cons_glassdoor_model.gensim'))\n",
    "cons = [doc.split(' ') for doc in glassdoor_reviews['cons_cleaned'].tolist()]\n",
    "doc_vectors = [ldamodel.id2word.doc2bow(doc) for doc in cons]\n",
    "doc_topics = [ldamodel[doc_vector] for doc_vector in doc_vectors]\n",
    "rows = []\n",
    "for doc in doc_topics:\n",
    "    curr_row = [0] * 10\n",
    "    for topic, prop in doc:\n",
    "        curr_row[topic] = prop\n",
    "    rows.append(curr_row)\n",
    "glassdoor_cons_df = pd.DataFrame(rows, columns=['cons_topic'+str(i) for i in range(1,11)])"
   ]
  },
  {
   "cell_type": "code",
   "execution_count": 64,
   "metadata": {},
   "outputs": [],
   "source": [
    "glassdoor_pros_df.reset_index(drop=True, inplace=True)\n",
    "glassdoor_cons_df.reset_index(drop=True, inplace=True)\n",
    "glassdoor_reviews.reset_index(drop=True, inplace=True)\n",
    "glassdoor_reviews.drop(['pros_cleaned', 'cons_cleaned', 'Unnamed: 0'], axis=1, inplace=True)"
   ]
  },
  {
   "cell_type": "code",
   "execution_count": 77,
   "metadata": {},
   "outputs": [],
   "source": [
    "glassdoor_reviews = pd.concat([glassdoor_reviews, glassdoor_pros_df, glassdoor_cons_df], axis=1)\n",
    "glassdoor_reviews.to_csv(os.path.join(glassdoor_data_dir, 'glassdoor_topic_prop.csv'), index=False)"
   ]
  },
  {
   "cell_type": "code",
   "execution_count": 86,
   "metadata": {},
   "outputs": [],
   "source": [
    "glassdoor_pros_ldamodel = LdaMulticore.load(os.path.join(glassdoor_lda_model_dir, 'model5.gensim'))\n",
    "pros_names = ['pros_topic'+str(i) for i in range(1,11)]\n",
    "topics = glassdoor_pros_ldamodel.show_topics(formatted=False)\n",
    "rows = []\n",
    "for i in range(0, len(topics)):\n",
    "    row = [pros_names[i]]\n",
    "    word_prob_list = topics[i][1]\n",
    "    for word, _ in word_prob_list:\n",
    "        row.append(word)\n",
    "    rows.append(row)"
   ]
  },
  {
   "cell_type": "code",
   "execution_count": 97,
   "metadata": {},
   "outputs": [],
   "source": [
    "pros_top_words = pd.DataFrame(rows)\n",
    "pros_top_words.set_index(0, inplace=True)\n",
    "pros_top_words.to_csv(os.path.join(glassdoor_data_dir, 'glassdoor_pros_top_words_lda_k10.csv'))"
   ]
  },
  {
   "cell_type": "code",
   "execution_count": 99,
   "metadata": {},
   "outputs": [],
   "source": [
    "glassdoor_cons_ldamodel = LdaMulticore.load(os.path.join(glassdoor_lda_model_dir, 'cons_glassdoor_model.gensim'))\n",
    "cons_names = ['cons_topic'+str(i) for i in range(1,11)]\n",
    "topics = glassdoor_cons_ldamodel.show_topics(formatted=False)\n",
    "rows = []\n",
    "for i in range(0, len(topics)):\n",
    "    row = [cons_names[i]]\n",
    "    word_prob_list = topics[i][1]\n",
    "    for word, _ in word_prob_list:\n",
    "        row.append(word)\n",
    "    rows.append(row)\n",
    "cons_top_words = pd.DataFrame(rows)\n",
    "cons_top_words.set_index(0, inplace=True)\n",
    "cons_top_words.to_csv(os.path.join(glassdoor_data_dir, 'glassdoor_cons_top_words_lda_k10.csv'))"
   ]
  },
  {
   "cell_type": "code",
   "execution_count": 110,
   "metadata": {},
   "outputs": [],
   "source": [
    "glassdoor_reviews = pd.read_csv(os.path.join(glassdoor_data_dir, \"glassdoor_reviews_only.csv\"))\n",
    "glassdoor_reviews = glassdoor_reviews.dropna(subset=['pros_cleaned', 'cons_cleaned'])\n",
    "glassdoor_pros_df.reset_index(drop=True, inplace=True)\n",
    "glassdoor_cons_df.reset_index(drop=True, inplace=True)\n",
    "glassdoor_reviews.reset_index(drop=True, inplace=True)\n",
    "glassdoor_reviews = pd.concat([glassdoor_reviews, glassdoor_pros_df, glassdoor_cons_df], axis=1)"
   ]
  },
  {
   "cell_type": "code",
   "execution_count": 119,
   "metadata": {},
   "outputs": [
    {
     "name": "stderr",
     "output_type": "stream",
     "text": [
      "/opt/jupyter/hub/lib/python3.6/site-packages/IPython/core/interactiveshell.py:3063: DtypeWarning: Columns (30) have mixed types.Specify dtype option on import or set low_memory=False.\n",
      "  interactivity=interactivity, compiler=compiler, result=result)\n"
     ]
    }
   ],
   "source": [
    "glassdoor_original = pd.read_csv(os.path.join(glassdoor_data_dir, 'reviews_new_processed.csv'))"
   ]
  },
  {
   "cell_type": "code",
   "execution_count": 120,
   "metadata": {},
   "outputs": [],
   "source": [
    "pd.set_option('max_colwidth', 400)\n",
    "cons_t1 = glassdoor_reviews[['review_id','cons_cleaned', 'cons_topic1']].sort_values('cons_topic1', ascending=False).head(15)\n",
    "cons_t2 = glassdoor_reviews[['review_id','cons_cleaned', 'cons_topic2']].sort_values('cons_topic2', ascending=False).head(15)\n",
    "cons_t4 = glassdoor_reviews[['review_id','cons_cleaned', 'cons_topic4']].sort_values('cons_topic4', ascending=False).head(15)"
   ]
  },
  {
   "cell_type": "code",
   "execution_count": 124,
   "metadata": {},
   "outputs": [
    {
     "data": {
      "text/html": [
       "<div>\n",
       "<style scoped>\n",
       "    .dataframe tbody tr th:only-of-type {\n",
       "        vertical-align: middle;\n",
       "    }\n",
       "\n",
       "    .dataframe tbody tr th {\n",
       "        vertical-align: top;\n",
       "    }\n",
       "\n",
       "    .dataframe thead th {\n",
       "        text-align: right;\n",
       "    }\n",
       "</style>\n",
       "<table border=\"1\" class=\"dataframe\">\n",
       "  <thead>\n",
       "    <tr style=\"text-align: right;\">\n",
       "      <th></th>\n",
       "      <th>cons_topic1</th>\n",
       "      <th>cons</th>\n",
       "    </tr>\n",
       "  </thead>\n",
       "  <tbody>\n",
       "    <tr>\n",
       "      <th>0</th>\n",
       "      <td>0.959091</td>\n",
       "      <td>No cons.No cons.No cons.No cons.No cons.No cons.No cons.No cons.No cons.No cons.No cons.No cons.No cons.No cons.No cons.No cons.No cons.No cons.No cons.No cons.No cons.</td>\n",
       "    </tr>\n",
       "    <tr>\n",
       "      <th>1</th>\n",
       "      <td>0.957141</td>\n",
       "      <td>Busy Busy Busy Busy Busy Busy Busy Busy Busy Busy Busy Busy Busy Busy Busy Busy Busy Busy Busy Busy</td>\n",
       "    </tr>\n",
       "    <tr>\n",
       "      <th>2</th>\n",
       "      <td>0.952632</td>\n",
       "      <td>No cons ,No cons,No cons,No cons ,No cons,No cons,No cons ,No cons,No cons,No cons ,No cons,No cons,No cons ,No cons,No cons,No cons ,No cons,No cons</td>\n",
       "    </tr>\n",
       "    <tr>\n",
       "      <th>3</th>\n",
       "      <td>0.947059</td>\n",
       "      <td>No cons! No cons! No cons! No cons! No cons! No cons! No cons! No cons! No cons! No cons! No cons! No cons! No cons! No cons! No cons! No cons!</td>\n",
       "    </tr>\n",
       "    <tr>\n",
       "      <th>4</th>\n",
       "      <td>0.943750</td>\n",
       "      <td>No Cons No Cons No Cons No Cons No Cons No No Cons No Cons No Cons Cons No Cons No Cons No Cons No Cons No Cons No Cons</td>\n",
       "    </tr>\n",
       "    <tr>\n",
       "      <th>5</th>\n",
       "      <td>0.943749</td>\n",
       "      <td>fun fun fun fun fun fun fun fun funf fun fun fun fnunf fn fun fun fun fun</td>\n",
       "    </tr>\n",
       "    <tr>\n",
       "      <th>6</th>\n",
       "      <td>0.943742</td>\n",
       "      <td>No cons. Everything about this place is super super super super super super super super super super super super super good</td>\n",
       "    </tr>\n",
       "    <tr>\n",
       "      <th>7</th>\n",
       "      <td>0.940000</td>\n",
       "      <td>no cons no cons no cons no cons no cons no cons no cons\\r\\nno cons no cons no cons no cons no cons no cons no cons</td>\n",
       "    </tr>\n",
       "    <tr>\n",
       "      <th>8</th>\n",
       "      <td>0.939996</td>\n",
       "      <td>Absolutely no cons. Absolutely no cons Absolutely no cons Absolutely no cons Absolutely no cons Absolutely no cons Absolutely no cons</td>\n",
       "    </tr>\n",
       "    <tr>\n",
       "      <th>9</th>\n",
       "      <td>0.939972</td>\n",
       "      <td>nothing in particular that comes to mind. had a very positive experience so far and would recommend PwC to every person who wants to apply and looking for a consulting experience</td>\n",
       "    </tr>\n",
       "    <tr>\n",
       "      <th>10</th>\n",
       "      <td>0.939970</td>\n",
       "      <td>The only con that I can think of is that it can get very busy. But honestly, I think that could also be a pro as well. I personally feel like it is a good thing to be busy. Keeps you engaged in your position.</td>\n",
       "    </tr>\n",
       "    <tr>\n",
       "      <th>11</th>\n",
       "      <td>0.935703</td>\n",
       "      <td>I cannot think of any downsides to this job. It's as good as you make it so if you come to work with a good attitude ready to make a difference, you'll do great! If you don't come with a good attitude, it's probably just going to be like every other job.</td>\n",
       "    </tr>\n",
       "    <tr>\n",
       "      <th>12</th>\n",
       "      <td>0.935688</td>\n",
       "      <td>Everything you would expect to find at any other job. Hard to come up with cons because when I really think about it there are so many more pros than cons. There is always something negative that could be said. No Employer is perfect</td>\n",
       "    </tr>\n",
       "    <tr>\n",
       "      <th>13</th>\n",
       "      <td>0.935672</td>\n",
       "      <td>This job is what you make it.  If you're generally a negative person, you probably will complain about the little things that make this job not really that bad.  If you work steady and are positive, you won't have any cons.</td>\n",
       "    </tr>\n",
       "    <tr>\n",
       "      <th>14</th>\n",
       "      <td>0.930769</td>\n",
       "      <td>No cons no cons no cons No cons no cons no cons No cons no cons no cons No cons no cons no cons</td>\n",
       "    </tr>\n",
       "  </tbody>\n",
       "</table>\n",
       "</div>"
      ],
      "text/plain": [
       "    cons_topic1  \\\n",
       "0      0.959091   \n",
       "1      0.957141   \n",
       "2      0.952632   \n",
       "3      0.947059   \n",
       "4      0.943750   \n",
       "5      0.943749   \n",
       "6      0.943742   \n",
       "7      0.940000   \n",
       "8      0.939996   \n",
       "9      0.939972   \n",
       "10     0.939970   \n",
       "11     0.935703   \n",
       "12     0.935688   \n",
       "13     0.935672   \n",
       "14     0.930769   \n",
       "\n",
       "                                                                                                                                                                                                                                                              cons  \n",
       "0                                                                                         No cons.No cons.No cons.No cons.No cons.No cons.No cons.No cons.No cons.No cons.No cons.No cons.No cons.No cons.No cons.No cons.No cons.No cons.No cons.No cons.No cons.  \n",
       "1                                                                                                                                                              Busy Busy Busy Busy Busy Busy Busy Busy Busy Busy Busy Busy Busy Busy Busy Busy Busy Busy Busy Busy  \n",
       "2                                                                                                            No cons ,No cons,No cons,No cons ,No cons,No cons,No cons ,No cons,No cons,No cons ,No cons,No cons,No cons ,No cons,No cons,No cons ,No cons,No cons  \n",
       "3                                                                                                                  No cons! No cons! No cons! No cons! No cons! No cons! No cons! No cons! No cons! No cons! No cons! No cons! No cons! No cons! No cons! No cons!  \n",
       "4                                                                                                                                          No Cons No Cons No Cons No Cons No Cons No No Cons No Cons No Cons Cons No Cons No Cons No Cons No Cons No Cons No Cons  \n",
       "5                                                                                                                                                                                        fun fun fun fun fun fun fun fun funf fun fun fun fnunf fn fun fun fun fun  \n",
       "6                                                                                                                                       No cons. Everything about this place is super super super super super super super super super super super super super good  \n",
       "7                                                                                                                                               no cons no cons no cons no cons no cons no cons no cons\\r\\nno cons no cons no cons no cons no cons no cons no cons  \n",
       "8                                                                                                                            Absolutely no cons. Absolutely no cons Absolutely no cons Absolutely no cons Absolutely no cons Absolutely no cons Absolutely no cons  \n",
       "9                                                                               nothing in particular that comes to mind. had a very positive experience so far and would recommend PwC to every person who wants to apply and looking for a consulting experience  \n",
       "10                                                The only con that I can think of is that it can get very busy. But honestly, I think that could also be a pro as well. I personally feel like it is a good thing to be busy. Keeps you engaged in your position.  \n",
       "11  I cannot think of any downsides to this job. It's as good as you make it so if you come to work with a good attitude ready to make a difference, you'll do great! If you don't come with a good attitude, it's probably just going to be like every other job.  \n",
       "12                       Everything you would expect to find at any other job. Hard to come up with cons because when I really think about it there are so many more pros than cons. There is always something negative that could be said. No Employer is perfect  \n",
       "13                                 This job is what you make it.  If you're generally a negative person, you probably will complain about the little things that make this job not really that bad.  If you work steady and are positive, you won't have any cons.  \n",
       "14                                                                                                                                                                 No cons no cons no cons No cons no cons no cons No cons no cons no cons No cons no cons no cons  "
      ]
     },
     "execution_count": 124,
     "metadata": {},
     "output_type": "execute_result"
    }
   ],
   "source": [
    "cons_t1.merge(glassdoor_original[['review_id', 'cons']], on='review_id')[['cons_topic1', 'cons']]"
   ]
  },
  {
   "cell_type": "code",
   "execution_count": 125,
   "metadata": {},
   "outputs": [
    {
     "data": {
      "text/html": [
       "<div>\n",
       "<style scoped>\n",
       "    .dataframe tbody tr th:only-of-type {\n",
       "        vertical-align: middle;\n",
       "    }\n",
       "\n",
       "    .dataframe tbody tr th {\n",
       "        vertical-align: top;\n",
       "    }\n",
       "\n",
       "    .dataframe thead th {\n",
       "        text-align: right;\n",
       "    }\n",
       "</style>\n",
       "<table border=\"1\" class=\"dataframe\">\n",
       "  <thead>\n",
       "    <tr style=\"text-align: right;\">\n",
       "      <th></th>\n",
       "      <th>cons_topic2</th>\n",
       "      <th>cons</th>\n",
       "    </tr>\n",
       "  </thead>\n",
       "  <tbody>\n",
       "    <tr>\n",
       "      <th>0</th>\n",
       "      <td>0.975662</td>\n",
       "      <td>They don't actually hire enough people, they have more temps than actual hired in employees! They go through temporary employees through Adecco. Even if a temp has been there a year they won't just hire you in! \\n\\nInstead they bring in a new temp to take your place. So they constantly bring in new temps instead of hiring. \\n\\nWhen one temp is done in comes a new temp, then when that temp is d...</td>\n",
       "    </tr>\n",
       "    <tr>\n",
       "      <th>1</th>\n",
       "      <td>0.972686</td>\n",
       "      <td>Multiple layoffs in all departments. No raise for a span of two years.  Bonuses eliminated 3 or 4 years ago.  Never know if the company will lose money and downsize the staff more.  Layoffs and steady outflow of talented employees have kept the company afloat. New product development has slowed significantly and innovation has all but stopped.  Beware, there are not many alternate employers in...</td>\n",
       "    </tr>\n",
       "    <tr>\n",
       "      <th>2</th>\n",
       "      <td>0.970959</td>\n",
       "      <td>A dead end job is a dead end job is a dead end job is a dead end job  is a dead end job is a dead end job is a dead end job is a dead end job is a dead end job is a dead end job.</td>\n",
       "    </tr>\n",
       "    <tr>\n",
       "      <th>3</th>\n",
       "      <td>0.969972</td>\n",
       "      <td>No stability, constant risk of losing your job; often for no apparent reason. The entire strategy going forward is to acquire new companies so do not expect any innovative work. The IT team is strangely obsessed with Microsoft products and costs the company huge amounts of money to use them vs cheaper alternatives.</td>\n",
       "    </tr>\n",
       "    <tr>\n",
       "      <th>4</th>\n",
       "      <td>0.968951</td>\n",
       "      <td>Company went downhill after it was acquired by a private equity firm. No raises or bonuses - even for those that brought in $$$ via Business Development. Everything is about profit, profit, profit. Not focused on employee professional development. They just want young, cheap, barely qualified defense contractors. I don't see any future changes even with the new takeover.</td>\n",
       "    </tr>\n",
       "    <tr>\n",
       "      <th>5</th>\n",
       "      <td>0.968951</td>\n",
       "      <td>Shrinking positions. Layoffs constantly. Bonus pool is zero. Outsourcing jobs to India. They said compliance layoffs were done but more compliance folks were laid off. My team of 5 is down to just me and they don’t have the budget to fill those roles. Currently looking for new jobs. Stay away from state street as much as you can.</td>\n",
       "    </tr>\n",
       "    <tr>\n",
       "      <th>6</th>\n",
       "      <td>0.967834</td>\n",
       "      <td>The institute is struggling with a vision of where to go as its sales have dropped dramatically and cash flow has become a major concern.  Major layoffs have occurred and will continue to occur for the foreseeable future.  Beware if you accept a position here it is likely a very unstable situation and new hires are especially at risk.</td>\n",
       "    </tr>\n",
       "    <tr>\n",
       "      <th>7</th>\n",
       "      <td>0.967814</td>\n",
       "      <td>Athena is not the same company it was when I started a few years ago. The Elliot investment and buyout has completely shredded any culture that was left. All decisions at this point come down to cost saving and making the company more attractive to go public again or a new buyer in a year or two down the road. It's really disappointing to see a company that once had a great culture and mission...</td>\n",
       "    </tr>\n",
       "    <tr>\n",
       "      <th>8</th>\n",
       "      <td>0.966644</td>\n",
       "      <td>Not all WF business lines have the same talent development pipeline methodology, and in some of the offshoot businesses such as consumer lending, new hires are often outside the company. Company values experience over education, so most mid tier and senior level positions require 10+ years of direct and or/related experience</td>\n",
       "    </tr>\n",
       "    <tr>\n",
       "      <th>9</th>\n",
       "      <td>0.966640</td>\n",
       "      <td>No Compliance to the State of Texas\\r\\nNo employee documents signed for Income Tax Records or Unemployment.\\r\\nWhen agree to take lay-off, the result was a termination notice.\\r\\nNo lay-off notices upon request after request \\r\\nCEO or executive have  no idea how to run a legal business in the State of Texas.</td>\n",
       "    </tr>\n",
       "    <tr>\n",
       "      <th>10</th>\n",
       "      <td>0.966630</td>\n",
       "      <td>A lot of flux and unknowns as the Army is shrinking.  The new evaluation system has muddied the waters and we have a generation of mid-level leaders who struggle with effective counseling and rely on the promotion boards to shape the force.  In addition, the constant threat of reduction in force has impacted morale.</td>\n",
       "    </tr>\n",
       "    <tr>\n",
       "      <th>11</th>\n",
       "      <td>0.965338</td>\n",
       "      <td>Schafer was bought by Belcan, as were two other companies, and the integration has failed.  Schafer has lost its' cache of high-level and competent employees and is becoming merely another inside the beltway company that fill seats on government contracts.  Unless you are part of the incoming team, your chances of moving ahead are questionable as the legacy employees are seen as nothing more t...</td>\n",
       "    </tr>\n",
       "    <tr>\n",
       "      <th>12</th>\n",
       "      <td>0.963993</td>\n",
       "      <td>t  t t t t t t t t t t t t t t t t t t t t t t t</td>\n",
       "    </tr>\n",
       "    <tr>\n",
       "      <th>13</th>\n",
       "      <td>0.963989</td>\n",
       "      <td>Many internal people are promoted to positions they are not qualified for as promotions are based on number of years at the company versus talent. Constant loss of good talent because there's no incentives for great performance. Bonuses were determined based on number of years at the company versus actual job performance.</td>\n",
       "    </tr>\n",
       "    <tr>\n",
       "      <th>14</th>\n",
       "      <td>0.963985</td>\n",
       "      <td>The company recently mentioned \"Digital River is fortunate to have job security.\"  I wonder how may employees believe the statement.  This company is laying off employees every single year.  They of course did it this year as well and 20-30 positions were eliminated.  They outsource many jobs and will continue doing so.  If you are looking for a job, I recommend you to avoid this company.</td>\n",
       "    </tr>\n",
       "  </tbody>\n",
       "</table>\n",
       "</div>"
      ],
      "text/plain": [
       "    cons_topic2  \\\n",
       "0      0.975662   \n",
       "1      0.972686   \n",
       "2      0.970959   \n",
       "3      0.969972   \n",
       "4      0.968951   \n",
       "5      0.968951   \n",
       "6      0.967834   \n",
       "7      0.967814   \n",
       "8      0.966644   \n",
       "9      0.966640   \n",
       "10     0.966630   \n",
       "11     0.965338   \n",
       "12     0.963993   \n",
       "13     0.963989   \n",
       "14     0.963985   \n",
       "\n",
       "                                                                                                                                                                                                                                                                                                                                                                                                               cons  \n",
       "0   They don't actually hire enough people, they have more temps than actual hired in employees! They go through temporary employees through Adecco. Even if a temp has been there a year they won't just hire you in! \\n\\nInstead they bring in a new temp to take your place. So they constantly bring in new temps instead of hiring. \\n\\nWhen one temp is done in comes a new temp, then when that temp is d...  \n",
       "1   Multiple layoffs in all departments. No raise for a span of two years.  Bonuses eliminated 3 or 4 years ago.  Never know if the company will lose money and downsize the staff more.  Layoffs and steady outflow of talented employees have kept the company afloat. New product development has slowed significantly and innovation has all but stopped.  Beware, there are not many alternate employers in...  \n",
       "2                                                                                                                                                                                                                                A dead end job is a dead end job is a dead end job is a dead end job  is a dead end job is a dead end job is a dead end job is a dead end job is a dead end job is a dead end job.  \n",
       "3                                                                                      No stability, constant risk of losing your job; often for no apparent reason. The entire strategy going forward is to acquire new companies so do not expect any innovative work. The IT team is strangely obsessed with Microsoft products and costs the company huge amounts of money to use them vs cheaper alternatives.  \n",
       "4                             Company went downhill after it was acquired by a private equity firm. No raises or bonuses - even for those that brought in $$$ via Business Development. Everything is about profit, profit, profit. Not focused on employee professional development. They just want young, cheap, barely qualified defense contractors. I don't see any future changes even with the new takeover.  \n",
       "5                                                                       Shrinking positions. Layoffs constantly. Bonus pool is zero. Outsourcing jobs to India. They said compliance layoffs were done but more compliance folks were laid off. My team of 5 is down to just me and they don’t have the budget to fill those roles. Currently looking for new jobs. Stay away from state street as much as you can.  \n",
       "6                                                                  The institute is struggling with a vision of where to go as its sales have dropped dramatically and cash flow has become a major concern.  Major layoffs have occurred and will continue to occur for the foreseeable future.  Beware if you accept a position here it is likely a very unstable situation and new hires are especially at risk.  \n",
       "7   Athena is not the same company it was when I started a few years ago. The Elliot investment and buyout has completely shredded any culture that was left. All decisions at this point come down to cost saving and making the company more attractive to go public again or a new buyer in a year or two down the road. It's really disappointing to see a company that once had a great culture and mission...  \n",
       "8                                                                            Not all WF business lines have the same talent development pipeline methodology, and in some of the offshoot businesses such as consumer lending, new hires are often outside the company. Company values experience over education, so most mid tier and senior level positions require 10+ years of direct and or/related experience  \n",
       "9                                                                                            No Compliance to the State of Texas\\r\\nNo employee documents signed for Income Tax Records or Unemployment.\\r\\nWhen agree to take lay-off, the result was a termination notice.\\r\\nNo lay-off notices upon request after request \\r\\nCEO or executive have  no idea how to run a legal business in the State of Texas.  \n",
       "10                                                                                    A lot of flux and unknowns as the Army is shrinking.  The new evaluation system has muddied the waters and we have a generation of mid-level leaders who struggle with effective counseling and rely on the promotion boards to shape the force.  In addition, the constant threat of reduction in force has impacted morale.  \n",
       "11  Schafer was bought by Belcan, as were two other companies, and the integration has failed.  Schafer has lost its' cache of high-level and competent employees and is becoming merely another inside the beltway company that fill seats on government contracts.  Unless you are part of the incoming team, your chances of moving ahead are questionable as the legacy employees are seen as nothing more t...  \n",
       "12                                                                                                                                                                                                                                                                                                                                                                 t  t t t t t t t t t t t t t t t t t t t t t t t  \n",
       "13                                                                              Many internal people are promoted to positions they are not qualified for as promotions are based on number of years at the company versus talent. Constant loss of good talent because there's no incentives for great performance. Bonuses were determined based on number of years at the company versus actual job performance.  \n",
       "14          The company recently mentioned \"Digital River is fortunate to have job security.\"  I wonder how may employees believe the statement.  This company is laying off employees every single year.  They of course did it this year as well and 20-30 positions were eliminated.  They outsource many jobs and will continue doing so.  If you are looking for a job, I recommend you to avoid this company.  "
      ]
     },
     "execution_count": 125,
     "metadata": {},
     "output_type": "execute_result"
    }
   ],
   "source": [
    "cons_t2.merge(glassdoor_original[['review_id', 'cons']], on='review_id')[['cons_topic2', 'cons']]"
   ]
  },
  {
   "cell_type": "code",
   "execution_count": 127,
   "metadata": {},
   "outputs": [
    {
     "data": {
      "text/html": [
       "<div>\n",
       "<style scoped>\n",
       "    .dataframe tbody tr th:only-of-type {\n",
       "        vertical-align: middle;\n",
       "    }\n",
       "\n",
       "    .dataframe tbody tr th {\n",
       "        vertical-align: top;\n",
       "    }\n",
       "\n",
       "    .dataframe thead th {\n",
       "        text-align: right;\n",
       "    }\n",
       "</style>\n",
       "<table border=\"1\" class=\"dataframe\">\n",
       "  <thead>\n",
       "    <tr style=\"text-align: right;\">\n",
       "      <th></th>\n",
       "      <th>cons_topic4</th>\n",
       "      <th>cons</th>\n",
       "    </tr>\n",
       "  </thead>\n",
       "  <tbody>\n",
       "    <tr>\n",
       "      <th>0</th>\n",
       "      <td>0.959080</td>\n",
       "      <td>Parking was a problem due to having outgrown their facility and requiring new staff to park off site and walk in, which is quite a walk as it's not in the best area.\\r\\nComputer equipment and design apps are aging and need updating.</td>\n",
       "    </tr>\n",
       "    <tr>\n",
       "      <th>1</th>\n",
       "      <td>0.959054</td>\n",
       "      <td>It can be a bit disorganized at times, and having multiple offices in various time zones introduces communication challenges. Communications equipment needs improvements, especially in light of how critical it is since we rely on remote communication so much.</td>\n",
       "    </tr>\n",
       "    <tr>\n",
       "      <th>2</th>\n",
       "      <td>0.957133</td>\n",
       "      <td>Closed local office, closed local office, closed local office, closed local office, closed local office, closed local office, closed local</td>\n",
       "    </tr>\n",
       "    <tr>\n",
       "      <th>3</th>\n",
       "      <td>0.957133</td>\n",
       "      <td>Some of the projects are less interesting than others. It's possible to get \"stuck\" on a project, but the company is usually pretty good about moving you if you do not like the project. Sometimes clients can be difficult to deal with, but that is the nature of client work. Sometimes the open space office can be a bit loud.</td>\n",
       "    </tr>\n",
       "    <tr>\n",
       "      <th>4</th>\n",
       "      <td>0.957123</td>\n",
       "      <td>location is a little far to access on public transportation as it requires a shuttle from the BART-  No direct Bart access-     The open office environment can make it difficult for projects requiring concentration and quiet.</td>\n",
       "    </tr>\n",
       "    <tr>\n",
       "      <th>5</th>\n",
       "      <td>0.957068</td>\n",
       "      <td>The current Bethlehem office is a bit tight, but we're moving to a larger space soon. There's also probably always going to be the regular issues of being in a small remote office and dealing with coworkers in another time zone.</td>\n",
       "    </tr>\n",
       "    <tr>\n",
       "      <th>6</th>\n",
       "      <td>0.954976</td>\n",
       "      <td>We could use a better CRM, and better hardware so we could work remote sometimes. Desktop instead of Laptops sometimes makes it feel like your locked to your desk. It would be nice to have the ability to work in different spaces in the office.</td>\n",
       "    </tr>\n",
       "    <tr>\n",
       "      <th>7</th>\n",
       "      <td>0.954968</td>\n",
       "      <td>Sunnyvale location is not good for public transit. It's possible to take caltrain, switch to light rail, then walk. You might as well drive which is never pleasant in the bay area. Best to live near the office if possible.</td>\n",
       "    </tr>\n",
       "    <tr>\n",
       "      <th>8</th>\n",
       "      <td>0.952626</td>\n",
       "      <td>None I'm new etc etc etc etc etc etc etc etc etc etc etc etc etc etc etc etc etc</td>\n",
       "    </tr>\n",
       "    <tr>\n",
       "      <th>9</th>\n",
       "      <td>0.952616</td>\n",
       "      <td>Basic supplies are not always provided by the facility, empty space in the building that could be allocated more efficiently, lots of running up and down floors in order to work with clients, no central office to meet clients for my department</td>\n",
       "    </tr>\n",
       "    <tr>\n",
       "      <th>10</th>\n",
       "      <td>0.952609</td>\n",
       "      <td>I live in the South Bay of San Diego and commute to the corporate offices in La Jolla, which is a longer commute than I prefer.  However, they have been very accommodating and understanding of the traffic that hinders my commute at times.</td>\n",
       "    </tr>\n",
       "    <tr>\n",
       "      <th>11</th>\n",
       "      <td>0.952589</td>\n",
       "      <td>Having several technology platforms (varying branch to branch) makes it tough to communicate to corporate/other branches at times and maximize corporate support. Internal employee perks could be better.</td>\n",
       "    </tr>\n",
       "    <tr>\n",
       "      <th>12</th>\n",
       "      <td>0.949993</td>\n",
       "      <td>Need updated programs and software. New computer systems. More user friendly systems.  Need a new delivery service, too many issues with current service.</td>\n",
       "    </tr>\n",
       "    <tr>\n",
       "      <th>13</th>\n",
       "      <td>0.949987</td>\n",
       "      <td>There is no BART readily available due to its location in the North Bay. The campuses are separated in San Rafael (Corporate) and Novato (Manufacturing) so you'll need to provide your own transportation if you ever need to travel from one campus to the other.</td>\n",
       "    </tr>\n",
       "    <tr>\n",
       "      <th>14</th>\n",
       "      <td>0.949986</td>\n",
       "      <td>Our team is relatively new and small in LA, and we may need to work with the NY team for resources, training, discussion, etc. I wish there would be more cross-office sharing and communication within our small group.</td>\n",
       "    </tr>\n",
       "  </tbody>\n",
       "</table>\n",
       "</div>"
      ],
      "text/plain": [
       "    cons_topic4  \\\n",
       "0      0.959080   \n",
       "1      0.959054   \n",
       "2      0.957133   \n",
       "3      0.957133   \n",
       "4      0.957123   \n",
       "5      0.957068   \n",
       "6      0.954976   \n",
       "7      0.954968   \n",
       "8      0.952626   \n",
       "9      0.952616   \n",
       "10     0.952609   \n",
       "11     0.952589   \n",
       "12     0.949993   \n",
       "13     0.949987   \n",
       "14     0.949986   \n",
       "\n",
       "                                                                                                                                                                                                                                                                                                                                    cons  \n",
       "0                                                                                               Parking was a problem due to having outgrown their facility and requiring new staff to park off site and walk in, which is quite a walk as it's not in the best area.\\r\\nComputer equipment and design apps are aging and need updating.  \n",
       "1                                                                    It can be a bit disorganized at times, and having multiple offices in various time zones introduces communication challenges. Communications equipment needs improvements, especially in light of how critical it is since we rely on remote communication so much.  \n",
       "2                                                                                                                                                                                             Closed local office, closed local office, closed local office, closed local office, closed local office, closed local office, closed local  \n",
       "3   Some of the projects are less interesting than others. It's possible to get \"stuck\" on a project, but the company is usually pretty good about moving you if you do not like the project. Sometimes clients can be difficult to deal with, but that is the nature of client work. Sometimes the open space office can be a bit loud.  \n",
       "4                                                                                                      location is a little far to access on public transportation as it requires a shuttle from the BART-  No direct Bart access-     The open office environment can make it difficult for projects requiring concentration and quiet.  \n",
       "5                                                                                                   The current Bethlehem office is a bit tight, but we're moving to a larger space soon. There's also probably always going to be the regular issues of being in a small remote office and dealing with coworkers in another time zone.  \n",
       "6                                                                                    We could use a better CRM, and better hardware so we could work remote sometimes. Desktop instead of Laptops sometimes makes it feel like your locked to your desk. It would be nice to have the ability to work in different spaces in the office.  \n",
       "7                                                                                                         Sunnyvale location is not good for public transit. It's possible to take caltrain, switch to light rail, then walk. You might as well drive which is never pleasant in the bay area. Best to live near the office if possible.  \n",
       "8                                                                                                                                                                                                                                                       None I'm new etc etc etc etc etc etc etc etc etc etc etc etc etc etc etc etc etc  \n",
       "9                                                                                    Basic supplies are not always provided by the facility, empty space in the building that could be allocated more efficiently, lots of running up and down floors in order to work with clients, no central office to meet clients for my department  \n",
       "10                                                                                        I live in the South Bay of San Diego and commute to the corporate offices in La Jolla, which is a longer commute than I prefer.  However, they have been very accommodating and understanding of the traffic that hinders my commute at times.  \n",
       "11                                                                                                                            Having several technology platforms (varying branch to branch) makes it tough to communicate to corporate/other branches at times and maximize corporate support. Internal employee perks could be better.  \n",
       "12                                                                                                                                                                             Need updated programs and software. New computer systems. More user friendly systems.  Need a new delivery service, too many issues with current service.  \n",
       "13                                                                   There is no BART readily available due to its location in the North Bay. The campuses are separated in San Rafael (Corporate) and Novato (Manufacturing) so you'll need to provide your own transportation if you ever need to travel from one campus to the other.  \n",
       "14                                                                                                              Our team is relatively new and small in LA, and we may need to work with the NY team for resources, training, discussion, etc. I wish there would be more cross-office sharing and communication within our small group.  "
      ]
     },
     "execution_count": 127,
     "metadata": {},
     "output_type": "execute_result"
    }
   ],
   "source": [
    "cons_t4.merge(glassdoor_original[['review_id', 'cons']], on='review_id')[['cons_topic4', 'cons']]"
   ]
  },
  {
   "cell_type": "code",
   "execution_count": null,
   "metadata": {},
   "outputs": [],
   "source": []
  }
 ],
 "metadata": {
  "kernelspec": {
   "display_name": "Python 3",
   "language": "python",
   "name": "python3"
  },
  "language_info": {
   "codemirror_mode": {
    "name": "ipython",
    "version": 3
   },
   "file_extension": ".py",
   "mimetype": "text/x-python",
   "name": "python",
   "nbconvert_exporter": "python",
   "pygments_lexer": "ipython3",
   "version": "3.7.3"
  }
 },
 "nbformat": 4,
 "nbformat_minor": 4
}
