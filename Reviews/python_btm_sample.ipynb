{
 "cells": [
  {
   "cell_type": "code",
   "execution_count": 3,
   "metadata": {},
   "outputs": [
    {
     "name": "stderr",
     "output_type": "stream",
     "text": [
      "/Users/Lara/anaconda3/lib/python3.7/site-packages/IPython/core/interactiveshell.py:3049: DtypeWarning: Columns (30) have mixed types.Specify dtype option on import or set low_memory=False.\n",
      "  interactivity=interactivity, compiler=compiler, result=result)\n"
     ]
    }
   ],
   "source": [
    "from nltk.tokenize import TweetTokenizer\n",
    "from nltk.corpus import stopwords\n",
    "import string\n",
    "import contractions\n",
    "from spacy.lang.en.stop_words import STOP_WORDS\n",
    "from nltk.stem import WordNetLemmatizer \n",
    "from textblob import TextBlob\n",
    "import re\n",
    "import pandas as pd\n",
    "glassdoor_reviews = pd.read_csv(\"~/Documents/CompCulture/Collabera/Data/reviews_new_processed.csv\")\n",
    "tokenizer = TweetTokenizer()\n",
    "stop_words = STOP_WORDS\n",
    "custom_stop_words = ['people', 'collabera', 'employee', 'employees', 'collabera\\'s', 'work', 'working', 'company', 'aaaaaaaaaaaaaaaaaaaaaaaaaaaaaaaaaaaaaaaaaa']\n",
    "#stop_words = set(list(stop_words) + custom_stop_words)\n",
    "lemmatizer = WordNetLemmatizer()\n",
    "# getting rid of these tokens that are not included in the pre-defined punctuation list\n",
    "# no better lists existing\n",
    "punctuation = string.punctuation + '–...…’“”'\n",
    "# removing bullet points and numbers\n",
    "re_number = r\"[0-9]+(\\.)?\"\n",
    "\n",
    "glassdoor_reviews = glassdoor_reviews.dropna(subset=['pros', 'cons']).astype({'pros':'str', 'cons':'str'})"
   ]
  },
  {
   "cell_type": "code",
   "execution_count": 11,
   "metadata": {},
   "outputs": [],
   "source": [
    "glassdoor_reviews = glassdoor_reviews.head(1000)\n",
    "pros = glassdoor_reviews['pros'].apply(contractions.fix).str.lower().apply(lambda x: x.replace('.',' ')).apply(tokenizer.tokenize).apply(\n",
    "    lambda toks : [lemmatizer.lemmatize(t) for t in toks\n",
    "                   if t not in punctuation and t not in stop_words and re.match(re_number, t) is None]).apply(' '.join).to_list()\n",
    "cons = glassdoor_reviews['cons'].apply(contractions.fix).str.lower().apply(lambda x: x.replace('.',' ')).apply(tokenizer.tokenize).apply(\n",
    "    lambda toks : [lemmatizer.lemmatize(t) for t in toks\n",
    "                   if t not in punctuation and t not in stop_words and re.match(re_number, t) is None]).apply(' '.join).to_list()"
   ]
  },
  {
   "cell_type": "code",
   "execution_count": 13,
   "metadata": {},
   "outputs": [],
   "source": [
    "from sklearn.feature_extraction.text import CountVectorizer\n",
    "\n",
    "texts = pros\n",
    "vec = CountVectorizer(stop_words='english')\n",
    "X = vec.fit_transform(texts).toarray()"
   ]
  },
  {
   "cell_type": "code",
   "execution_count": 16,
   "metadata": {},
   "outputs": [],
   "source": [
    "from biterm.utility import vec_to_biterms\n",
    "import numpy as np\n",
    "\n",
    "vocab = np.array(vec.get_feature_names())\n",
    "biterms = vec_to_biterms(X)"
   ]
  },
  {
   "cell_type": "code",
   "execution_count": 19,
   "metadata": {},
   "outputs": [
    {
     "name": "stderr",
     "output_type": "stream",
     "text": [
      "100%|██████████| 100/100 [2:07:46<00:00, 76.66s/it] \n",
      "/Users/Lara/anaconda3/lib/python3.7/site-packages/biterm/btm.py:76: RuntimeWarning: invalid value encountered in true_divide\n",
      "  P_zd[i] = P_zb.sum(axis=0) / P_zb.sum(axis=0).sum()\n"
     ]
    }
   ],
   "source": [
    "from biterm.btm import oBTM\n",
    "\n",
    "btm = oBTM(num_topics=20, V=vocab)\n",
    "topics = btm.fit_transform(biterms, iterations=100)"
   ]
  },
  {
   "cell_type": "code",
   "execution_count": null,
   "metadata": {},
   "outputs": [],
   "source": [
    "from biterm.btm import oBTM\n",
    "\n",
    "btm = oBTM(num_topics=20, V=vocab)\n",
    "topics = btm.fit_transform(biterms, iterations=100)"
   ]
  }
 ],
 "metadata": {
  "kernelspec": {
   "display_name": "Python 3",
   "language": "python",
   "name": "python3"
  },
  "language_info": {
   "codemirror_mode": {
    "name": "ipython",
    "version": 3
   },
   "file_extension": ".py",
   "mimetype": "text/x-python",
   "name": "python",
   "nbconvert_exporter": "python",
   "pygments_lexer": "ipython3",
   "version": "3.7.3"
  }
 },
 "nbformat": 4,
 "nbformat_minor": 2
}
