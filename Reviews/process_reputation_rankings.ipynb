{
 "cells": [
  {
   "cell_type": "code",
   "execution_count": 1,
   "metadata": {},
   "outputs": [
    {
     "name": "stderr",
     "output_type": "stream",
     "text": [
      "/Users/Lara/anaconda3/lib/python3.7/site-packages/tqdm/std.py:706: FutureWarning: The Panel class is removed from pandas. Accessing it from the top-level namespace will also be removed in the next version\n",
      "  from pandas import Panel\n"
     ]
    }
   ],
   "source": [
    "import pandas as pd\n",
    "import os\n",
    "from rapidfuzz import process, fuzz\n",
    "from tqdm import tqdm\n",
    "tqdm.pandas()"
   ]
  },
  {
   "cell_type": "code",
   "execution_count": 2,
   "metadata": {},
   "outputs": [],
   "source": [
    "data_dir = \"/Users/Lara/Documents/Stanford/Research/Glassdoor\""
   ]
  },
  {
   "cell_type": "code",
   "execution_count": 3,
   "metadata": {},
   "outputs": [],
   "source": [
    "glassdoor_reviews = pd.read_csv(os.path.join(data_dir, 'reviews_new_processed.csv'), usecols=['employer_id', 'employer_name'])\n",
    "glassdoor_reviews = glassdoor_reviews.drop_duplicates()\n",
    "glassdoor_reviews = glassdoor_reviews.loc[glassdoor_reviews['employer_name'] != 't']\n",
    "glassdoor_reviews = glassdoor_reviews.loc[glassdoor_reviews['employer_name'] != 'c']"
   ]
  },
  {
   "cell_type": "code",
   "execution_count": 13,
   "metadata": {},
   "outputs": [],
   "source": [
    "l = glassdoor_reviews[['employer_name', 'employer_id']].drop_duplicates()\n",
    "l.to_csv(os.path.join(data_dir, 'companies_only.csv'))"
   ]
  },
  {
   "cell_type": "markdown",
   "metadata": {},
   "source": [
    "### Processing Forbes Data"
   ]
  },
  {
   "cell_type": "code",
   "execution_count": 17,
   "metadata": {},
   "outputs": [],
   "source": [
    "forbes_df = pd.read_csv(os.path.join(data_dir, \"forbes_most_admired_2021.csv\"), names=['val'])\n",
    "wide_data = []\n",
    "long_data = forbes_df['val'].tolist()\n",
    "for i in range(0, len(long_data)):\n",
    "    if i % 2 == 1:\n",
    "        continue\n",
    "    row = [int(long_data[i]), long_data[i+1]]\n",
    "    wide_data.append(row)\n",
    "forbes_df = pd.DataFrame(wide_data, columns = [\"rank\", \"company\"])"
   ]
  },
  {
   "cell_type": "code",
   "execution_count": 18,
   "metadata": {},
   "outputs": [
    {
     "name": "stderr",
     "output_type": "stream",
     "text": [
      "100%|██████████| 332/332 [06:53<00:00,  1.24s/it]\n"
     ]
    }
   ],
   "source": [
    "forbes_df['key']=forbes_df.company.progress_apply(lambda x : [process.extract(x, glassdoor_reviews.employer_name, limit=1, processor=False, scorer = fuzz.WRatio)][0][0][0])"
   ]
  },
  {
   "cell_type": "code",
   "execution_count": 19,
   "metadata": {},
   "outputs": [],
   "source": [
    "forbes_df = forbes_df.merge(glassdoor_reviews,left_on='key',right_on='employer_name')\n",
    "forbes_df = forbes_df[['rank', 'company', 'employer_id', 'employer_name']]\n",
    "forbes_df.to_csv(os.path.join(data_dir, 'forbes_glassdoor_2019.csv'), index=False)"
   ]
  },
  {
   "cell_type": "markdown",
   "metadata": {},
   "source": [
    "### Processing Harris Poll Data"
   ]
  },
  {
   "cell_type": "code",
   "execution_count": 168,
   "metadata": {},
   "outputs": [],
   "source": [
    "harris_df = pd.read_csv(os.path.join(data_dir, \"harris_reputation_poll.csv\"))\n",
    "harris_df.columns = ['rank', 'company', 'score']\n",
    "harris_df['rank'] = harris_df['rank'].apply(lambda x : x[1:])"
   ]
  },
  {
   "cell_type": "code",
   "execution_count": 169,
   "metadata": {},
   "outputs": [
    {
     "name": "stderr",
     "output_type": "stream",
     "text": [
      "100%|██████████| 100/100 [02:01<00:00,  1.21s/it]\n"
     ]
    }
   ],
   "source": [
    "harris_df['key']=harris_df.company.progress_apply(lambda x : [process.extract(x, glassdoor_reviews.employer_name, limit=1, processor=False, scorer = fuzz.WRatio)][0][0][0])\n"
   ]
  },
  {
   "cell_type": "code",
   "execution_count": 170,
   "metadata": {},
   "outputs": [],
   "source": [
    "harris_df = harris_df.merge(glassdoor_reviews,left_on='key',right_on='employer_name')\n",
    "harris_df = harris_df[['rank', 'company', 'employer_id', 'employer_name', 'score']]\n",
    "harris_df = harris_df.drop_duplicates()"
   ]
  },
  {
   "cell_type": "code",
   "execution_count": 171,
   "metadata": {},
   "outputs": [
    {
     "data": {
      "text/html": [
       "<div>\n",
       "<style scoped>\n",
       "    .dataframe tbody tr th:only-of-type {\n",
       "        vertical-align: middle;\n",
       "    }\n",
       "\n",
       "    .dataframe tbody tr th {\n",
       "        vertical-align: top;\n",
       "    }\n",
       "\n",
       "    .dataframe thead th {\n",
       "        text-align: right;\n",
       "    }\n",
       "</style>\n",
       "<table border=\"1\" class=\"dataframe\">\n",
       "  <thead>\n",
       "    <tr style=\"text-align: right;\">\n",
       "      <th></th>\n",
       "      <th>rank</th>\n",
       "      <th>company</th>\n",
       "      <th>employer_id</th>\n",
       "      <th>employer_name</th>\n",
       "      <th>score</th>\n",
       "    </tr>\n",
       "  </thead>\n",
       "  <tbody>\n",
       "    <tr>\n",
       "      <th>0</th>\n",
       "      <td>1</td>\n",
       "      <td>Patagonia</td>\n",
       "      <td>5474</td>\n",
       "      <td>Patagonia, Inc.</td>\n",
       "      <td>82.7</td>\n",
       "    </tr>\n",
       "    <tr>\n",
       "      <th>1</th>\n",
       "      <td>2</td>\n",
       "      <td>Honda Motor Company</td>\n",
       "      <td>7474</td>\n",
       "      <td>Hyundai Motor Company</td>\n",
       "      <td>81.6</td>\n",
       "    </tr>\n",
       "    <tr>\n",
       "      <th>2</th>\n",
       "      <td>3</td>\n",
       "      <td>Moderna</td>\n",
       "      <td>453959</td>\n",
       "      <td>Moderna, Inc.</td>\n",
       "      <td>81.3</td>\n",
       "    </tr>\n",
       "    <tr>\n",
       "      <th>3</th>\n",
       "      <td>4</td>\n",
       "      <td>Chick-fil-A</td>\n",
       "      <td>5873</td>\n",
       "      <td>Chick-fil-A, Inc.</td>\n",
       "      <td>81.1</td>\n",
       "    </tr>\n",
       "    <tr>\n",
       "      <th>4</th>\n",
       "      <td>5</td>\n",
       "      <td>SpaceX</td>\n",
       "      <td>693210</td>\n",
       "      <td>zSpace</td>\n",
       "      <td>81.1</td>\n",
       "    </tr>\n",
       "    <tr>\n",
       "      <th>...</th>\n",
       "      <td>...</td>\n",
       "      <td>...</td>\n",
       "      <td>...</td>\n",
       "      <td>...</td>\n",
       "      <td>...</td>\n",
       "    </tr>\n",
       "    <tr>\n",
       "      <th>98</th>\n",
       "      <td>96</td>\n",
       "      <td>Sears Holdings Corporation</td>\n",
       "      <td>37984</td>\n",
       "      <td>Sears Holdings Corporation</td>\n",
       "      <td>61.2</td>\n",
       "    </tr>\n",
       "    <tr>\n",
       "      <th>99</th>\n",
       "      <td>97</td>\n",
       "      <td>Wish.com</td>\n",
       "      <td>686514</td>\n",
       "      <td>Wish</td>\n",
       "      <td>60.7</td>\n",
       "    </tr>\n",
       "    <tr>\n",
       "      <th>100</th>\n",
       "      <td>98</td>\n",
       "      <td>Facebook</td>\n",
       "      <td>40772</td>\n",
       "      <td>Facebook, Inc.</td>\n",
       "      <td>60.0</td>\n",
       "    </tr>\n",
       "    <tr>\n",
       "      <th>101</th>\n",
       "      <td>99</td>\n",
       "      <td>Fox Corporation</td>\n",
       "      <td>2938629</td>\n",
       "      <td>Fox Corporation</td>\n",
       "      <td>59.2</td>\n",
       "    </tr>\n",
       "    <tr>\n",
       "      <th>102</th>\n",
       "      <td>100</td>\n",
       "      <td>The Trump Organization</td>\n",
       "      <td>3007</td>\n",
       "      <td>The Trump Organization</td>\n",
       "      <td>56.9</td>\n",
       "    </tr>\n",
       "  </tbody>\n",
       "</table>\n",
       "<p>103 rows × 5 columns</p>\n",
       "</div>"
      ],
      "text/plain": [
       "    rank                     company  employer_id               employer_name  \\\n",
       "0      1                   Patagonia         5474             Patagonia, Inc.   \n",
       "1      2         Honda Motor Company         7474       Hyundai Motor Company   \n",
       "2      3                     Moderna       453959               Moderna, Inc.   \n",
       "3      4                 Chick-fil-A         5873           Chick-fil-A, Inc.   \n",
       "4      5                      SpaceX       693210                      zSpace   \n",
       "..   ...                         ...          ...                         ...   \n",
       "98    96  Sears Holdings Corporation        37984  Sears Holdings Corporation   \n",
       "99    97                    Wish.com       686514                        Wish   \n",
       "100   98                    Facebook        40772              Facebook, Inc.   \n",
       "101   99             Fox Corporation      2938629             Fox Corporation   \n",
       "102  100      The Trump Organization         3007      The Trump Organization   \n",
       "\n",
       "     score  \n",
       "0     82.7  \n",
       "1     81.6  \n",
       "2     81.3  \n",
       "3     81.1  \n",
       "4     81.1  \n",
       "..     ...  \n",
       "98    61.2  \n",
       "99    60.7  \n",
       "100   60.0  \n",
       "101   59.2  \n",
       "102   56.9  \n",
       "\n",
       "[103 rows x 5 columns]"
      ]
     },
     "execution_count": 171,
     "metadata": {},
     "output_type": "execute_result"
    }
   ],
   "source": [
    "harris_df"
   ]
  },
  {
   "cell_type": "code",
   "execution_count": 172,
   "metadata": {},
   "outputs": [],
   "source": [
    "harris_df.to_csv(os.path.join(data_dir, 'harris_glassdoor_2019.csv'), index=False)"
   ]
  },
  {
   "cell_type": "markdown",
   "metadata": {},
   "source": [
    "### Postscript"
   ]
  },
  {
   "cell_type": "markdown",
   "metadata": {},
   "source": [
    "The matched datasetes are then visually inspected for quality. Any matches that are wrong are manually corrected by comparing names in 'companies_only.csv' to names in the two reputation datasets. The name corrections are saved into the original files."
   ]
  },
  {
   "cell_type": "markdown",
   "metadata": {},
   "source": [
    "### Processing Forbes 2019"
   ]
  },
  {
   "cell_type": "code",
   "execution_count": 66,
   "metadata": {},
   "outputs": [],
   "source": [
    "forbes_2021_df = pd.read_csv(os.path.join(data_dir, \"forbes_glassdoor_2021.csv\"))\n",
    "forbes_df = pd.read_csv(os.path.join(data_dir, \"forbes_most_admired_2019.csv\"), names=['val'])\n",
    "wide_data = []\n",
    "long_data = forbes_df['val'].tolist()\n",
    "for i in range(0, len(long_data)):\n",
    "    if i % 2 == 1:\n",
    "        continue\n",
    "    row = [int(long_data[i].replace(',', '')), long_data[i+1]]\n",
    "    wide_data.append(row)\n",
    "forbes_df = pd.DataFrame(wide_data, columns = [\"rank\", \"company\"])"
   ]
  },
  {
   "cell_type": "code",
   "execution_count": 67,
   "metadata": {},
   "outputs": [],
   "source": [
    "forbes_df=forbes_df.merge(forbes_2021_df[['company', 'employer_name', 'employer_id']],left_on='company',right_on='company', how='left')\n"
   ]
  },
  {
   "cell_type": "code",
   "execution_count": 68,
   "metadata": {},
   "outputs": [
    {
     "name": "stderr",
     "output_type": "stream",
     "text": [
      "100%|██████████| 337/337 [01:41<00:00,  3.32it/s]\n"
     ]
    }
   ],
   "source": [
    "import numpy as np\n",
    "forbes_df['employer_name']=forbes_df.progress_apply(lambda x : [process.extract(x['company'], glassdoor_reviews.employer_name, limit=1, processor=False, scorer = fuzz.WRatio)][0][0][0] if pd.isna(x['employer_name']) else x['employer_name'], axis=1)\n"
   ]
  },
  {
   "cell_type": "code",
   "execution_count": 78,
   "metadata": {},
   "outputs": [],
   "source": [
    "combined_df = forbes_df[['company', 'employer_name']].drop_duplicates().merge(glassdoor_reviews, on='employer_name', how='left')"
   ]
  },
  {
   "cell_type": "code",
   "execution_count": 79,
   "metadata": {},
   "outputs": [
    {
     "data": {
      "text/html": [
       "<div>\n",
       "<style scoped>\n",
       "    .dataframe tbody tr th:only-of-type {\n",
       "        vertical-align: middle;\n",
       "    }\n",
       "\n",
       "    .dataframe tbody tr th {\n",
       "        vertical-align: top;\n",
       "    }\n",
       "\n",
       "    .dataframe thead th {\n",
       "        text-align: right;\n",
       "    }\n",
       "</style>\n",
       "<table border=\"1\" class=\"dataframe\">\n",
       "  <thead>\n",
       "    <tr style=\"text-align: right;\">\n",
       "      <th></th>\n",
       "      <th>company</th>\n",
       "      <th>employer_name</th>\n",
       "      <th>employer_id</th>\n",
       "    </tr>\n",
       "  </thead>\n",
       "  <tbody>\n",
       "    <tr>\n",
       "      <th>0</th>\n",
       "      <td>Apple</td>\n",
       "      <td>Apple Inc.</td>\n",
       "      <td>1138</td>\n",
       "    </tr>\n",
       "    <tr>\n",
       "      <th>1</th>\n",
       "      <td>Amazon</td>\n",
       "      <td>Amazon.com, Inc.</td>\n",
       "      <td>6036</td>\n",
       "    </tr>\n",
       "    <tr>\n",
       "      <th>2</th>\n",
       "      <td>Berkshire Hathaway</td>\n",
       "      <td>Berkshire Hathaway Inc.</td>\n",
       "      <td>94</td>\n",
       "    </tr>\n",
       "    <tr>\n",
       "      <th>3</th>\n",
       "      <td>Walt Disney</td>\n",
       "      <td>The Walt Disney Company</td>\n",
       "      <td>717</td>\n",
       "    </tr>\n",
       "    <tr>\n",
       "      <th>4</th>\n",
       "      <td>Starbucks</td>\n",
       "      <td>Starbucks Corporation</td>\n",
       "      <td>2202</td>\n",
       "    </tr>\n",
       "    <tr>\n",
       "      <th>...</th>\n",
       "      <td>...</td>\n",
       "      <td>...</td>\n",
       "      <td>...</td>\n",
       "    </tr>\n",
       "    <tr>\n",
       "      <th>333</th>\n",
       "      <td>Xcel Energy</td>\n",
       "      <td>Xcel Energy Inc.</td>\n",
       "      <td>487</td>\n",
       "    </tr>\n",
       "    <tr>\n",
       "      <th>334</th>\n",
       "      <td>XPO Logistics</td>\n",
       "      <td>XPO Logistics</td>\n",
       "      <td>3221547</td>\n",
       "    </tr>\n",
       "    <tr>\n",
       "      <th>335</th>\n",
       "      <td>Yum Brands</td>\n",
       "      <td>YUM! Brands, Inc.</td>\n",
       "      <td>6995</td>\n",
       "    </tr>\n",
       "    <tr>\n",
       "      <th>336</th>\n",
       "      <td>Yum China Holdings</td>\n",
       "      <td>Laboratory Corporation of America Holdings</td>\n",
       "      <td>1679</td>\n",
       "    </tr>\n",
       "    <tr>\n",
       "      <th>337</th>\n",
       "      <td>ZF Friedrichshafen</td>\n",
       "      <td>ZF Friedrichshafen AG</td>\n",
       "      <td>10462</td>\n",
       "    </tr>\n",
       "  </tbody>\n",
       "</table>\n",
       "<p>338 rows × 3 columns</p>\n",
       "</div>"
      ],
      "text/plain": [
       "                company                               employer_name  \\\n",
       "0                 Apple                                  Apple Inc.   \n",
       "1                Amazon                            Amazon.com, Inc.   \n",
       "2    Berkshire Hathaway                     Berkshire Hathaway Inc.   \n",
       "3           Walt Disney                     The Walt Disney Company   \n",
       "4             Starbucks                       Starbucks Corporation   \n",
       "..                  ...                                         ...   \n",
       "333         Xcel Energy                            Xcel Energy Inc.   \n",
       "334       XPO Logistics                               XPO Logistics   \n",
       "335          Yum Brands                           YUM! Brands, Inc.   \n",
       "336  Yum China Holdings  Laboratory Corporation of America Holdings   \n",
       "337  ZF Friedrichshafen                       ZF Friedrichshafen AG   \n",
       "\n",
       "     employer_id  \n",
       "0           1138  \n",
       "1           6036  \n",
       "2             94  \n",
       "3            717  \n",
       "4           2202  \n",
       "..           ...  \n",
       "333          487  \n",
       "334      3221547  \n",
       "335         6995  \n",
       "336         1679  \n",
       "337        10462  \n",
       "\n",
       "[338 rows x 3 columns]"
      ]
     },
     "execution_count": 79,
     "metadata": {},
     "output_type": "execute_result"
    }
   ],
   "source": [
    "combined_df"
   ]
  },
  {
   "cell_type": "code",
   "execution_count": 80,
   "metadata": {},
   "outputs": [],
   "source": [
    "combined_df.to_csv(os.path.join(data_dir, 'forbes_glassdoor_2019.csv'), index=False)"
   ]
  },
  {
   "cell_type": "code",
   "execution_count": null,
   "metadata": {},
   "outputs": [],
   "source": []
  }
 ],
 "metadata": {
  "kernelspec": {
   "display_name": "Python 3",
   "language": "python",
   "name": "python3"
  },
  "language_info": {
   "codemirror_mode": {
    "name": "ipython",
    "version": 3
   },
   "file_extension": ".py",
   "mimetype": "text/x-python",
   "name": "python",
   "nbconvert_exporter": "python",
   "pygments_lexer": "ipython3",
   "version": "3.7.3"
  }
 },
 "nbformat": 4,
 "nbformat_minor": 2
}
